{
 "cells": [
  {
   "cell_type": "markdown",
   "id": "524cf813-4616-46a8-a13d-e8f39e3115b4",
   "metadata": {},
   "source": [
    "# Lesson 03: Convolution Code-Along"
   ]
  },
  {
   "cell_type": "markdown",
   "id": "070bd2e7-a45e-43cf-853a-ba867db85315",
   "metadata": {},
   "source": [
    "## Introduction \n",
    "\n",
    "In [Lesson 00](https://docs.google.com/presentation/d/11pdHPVojeB6OlbLgoNgd-CBpvJaT4RZveCoZ), you learned that convolution is useful for extracting data, deriving information about an image, and modifying images. In [Lesson 01](https://docs.google.com/presentation/d/1KBE6ZrM-yGWqdxQW7aD_52K_gtQfz4fl64GsiTuqy9k/edit#slide=id.g2a1d454b12d_0_0), you learned how to perform 2D convolution and you practiced that skill in [Lesson 02](https://docs.google.com/presentation/d/1K5xAPhNa2sEDRKEm8MVIFe3VDQFIsBr05fRWi-kWkCA/edit#slide=id.g2a251adb650_0_0). Let's translate what you've learned into code. Remember that images are represented as 2D arrays in code so they're perfect candidates for convolution.\n",
    "\n",
    "### Libraries Used\n",
    "\n",
    "- [matplotlib](https://matplotlib.org/)\n",
    "    - Great for visualizations.\n",
    "    - In our code-along, it displays 2D arrays as images in the `display_image`.\n",
    "- [numpy](https://numpy.org/)\n",
    "    - Mainly used for scientific/complex computing.\n",
    "    - In our code-along, it provides convenient methods for creating 2D arrays.\n",
    "- [scipy](https://scipy.org/)\n",
    "    - Collection of algorithms for scientific/complex computing.\n",
    "    - This code-along uses the [convolve2d](https://docs.scipy.org/doc/scipy/reference/generated/scipy.signal.convolve2d.html) function.\n",
    "\n",
    "For now:\n",
    "- [ ] read through the `display_image` function provided for you\n",
    "- [ ] what the `mode` and `boundary` parameters do in scipy's convolve2d function"
   ]
  },
  {
   "cell_type": "code",
   "execution_count": 8,
   "id": "7943a4be-28cf-4272-89b5-8f5984efed76",
   "metadata": {},
   "outputs": [],
   "source": [
    "import matplotlib.pyplot as plt\n",
    "import numpy as np\n",
    "from scipy.signal import convolve2d\n",
    "\n",
    "def display_image(image, title):\n",
    "    \"\"\"\n",
    "    Display the given 2D image with a specified title.\n",
    "\n",
    "    Parameters:\n",
    "    - image: 2D numpy array representing the image.\n",
    "    - title: A string title for the displayed image.\n",
    "    \"\"\"\n",
    "    plt.figure(figsize=(3,3))\n",
    "    plt.imshow(image, cmap='gray', interpolation='nearest', vmin=0, vmax=255)\n",
    "    plt.title(title)\n",
    "    plt.xticks([])\n",
    "    plt.yticks([])\n",
    "    plt.show()"
   ]
  },
  {
   "cell_type": "markdown",
   "id": "30288859-a2f6-436f-a47d-abe86bd57719",
   "metadata": {},
   "source": [
    "## Class practice problem - Lesson 02, Slide 4\n",
    "\n",
    "First, let's model the class practice convolution problem from Lesson 02, Slide 4."
   ]
  },
  {
   "cell_type": "code",
   "execution_count": 2,
   "id": "a2ab0891-bc82-4eaf-a992-c52ed0be2ada",
   "metadata": {},
   "outputs": [],
   "source": [
    "# ---- TODO(class) ----\n",
    "# create two 2D arrays called `class_input` and `class_kernel` using the data from L2, S4"
   ]
  },
  {
   "cell_type": "markdown",
   "id": "8e88e3a1-6fc4-4cc2-b44e-184161843778",
   "metadata": {},
   "source": [
    "Now, let's convolve the `class_input` array with the kernel we created and print the result. Some important notes about the convolve2d function:\n",
    "- Setting the `mode` parameter to `'same'` means our result will have the same size as the input. This is *almost* always what we want for our class.\n",
    "- Setting the `boundary` parameter to `'wrap'` uses circular padding for convolution near the borders."
   ]
  },
  {
   "cell_type": "code",
   "execution_count": 3,
   "id": "7584861e-cfb0-4d4d-8441-370de319437b",
   "metadata": {},
   "outputs": [],
   "source": [
    "# ---- TODO (class) ----\n",
    "# convolve the `class_input` 2D array with the `class_kernel` array using scipy's\n",
    "# `convolve2d` function. name the result `class_output`, round it to the nearest int\n",
    "# and print the array."
   ]
  },
  {
   "cell_type": "markdown",
   "id": "e0e8c041-fdc6-4a27-92a7-4558aa9f6b07",
   "metadata": {},
   "source": [
    "Let's display our input and output as images using the `display_image` function."
   ]
  },
  {
   "cell_type": "code",
   "execution_count": 7,
   "id": "6ab09bfe-64dc-4c7a-a7e7-2aac853c9db7",
   "metadata": {},
   "outputs": [],
   "source": [
    "# ---- TODO(class) ----\n",
    "# display `class_input` and `class_output` as images"
   ]
  },
  {
   "cell_type": "markdown",
   "id": "2fdd67e2-be20-40ce-9bff-b4bd0eda5bb4",
   "metadata": {},
   "source": [
    "## Pair practice problem - Lesson 02, Slide 14\n",
    "\n",
    "With a partner, convert the pair practice problem in L2, S14 to code as we did above with the class practice problem. First, define the pair input and kernel arrays below."
   ]
  },
  {
   "cell_type": "code",
   "execution_count": 5,
   "id": "3252c09a-466d-458d-b386-30d6ede833d6",
   "metadata": {},
   "outputs": [],
   "source": [
    "# ---- TODO(pairs) ----\n",
    "# create two 2D arrays called `pair_input` and `pair_kernel` using the data from L2, S4"
   ]
  },
  {
   "cell_type": "markdown",
   "id": "fd01cb24-f1a6-446f-8572-f19dd7a91aad",
   "metadata": {},
   "source": [
    "Now, let's convolve using the convolve2d method."
   ]
  },
  {
   "cell_type": "code",
   "execution_count": 6,
   "id": "f065015a-ac34-422c-8e3b-ca8b51cb5511",
   "metadata": {},
   "outputs": [],
   "source": [
    "# ---- TODO(pairs) ----\n",
    "# convolve `pair_input` with `pair_kernel`. round the result to the nearest int and print"
   ]
  },
  {
   "cell_type": "markdown",
   "id": "2ac2c67d-61b3-4172-a56c-6b936ec7a17d",
   "metadata": {},
   "source": [
    "Finally, let's display the result as an image."
   ]
  },
  {
   "cell_type": "code",
   "execution_count": 8,
   "id": "900b1fdc-e3dc-4589-99ea-b5c4d28e092f",
   "metadata": {},
   "outputs": [],
   "source": [
    "# ---- TODO(pairs) ----\n",
    "# display `pair_input` and `pair_output` as images"
   ]
  },
  {
   "cell_type": "markdown",
   "id": "6e1befd9-2375-45eb-af4f-02c8456e2e48",
   "metadata": {},
   "source": [
    "## Solo practice - Lesson 02, Slide 17"
   ]
  },
  {
   "cell_type": "markdown",
   "id": "73503592-357a-4aee-a9a4-65e3bdbb2dab",
   "metadata": {},
   "source": [
    "On your own, convert the solo convolution practice problem from Lesson 02, Slide 17. Print the output as an array of numbers. Display the input and output arrays as images."
   ]
  },
  {
   "cell_type": "code",
   "execution_count": 9,
   "id": "d548e05b-3e76-4e2f-83b8-7aec04a6c3f5",
   "metadata": {},
   "outputs": [],
   "source": [
    "# ---- TODO(you) ----\n",
    "# set up the data for convolution from L2, S17"
   ]
  },
  {
   "cell_type": "code",
   "execution_count": 13,
   "id": "af8933b9-6e79-49f1-82de-4a9b2bfe27a4",
   "metadata": {},
   "outputs": [],
   "source": [
    "# ---- TODO(you) ----\n",
    "# convolve and print the result"
   ]
  },
  {
   "cell_type": "code",
   "execution_count": 15,
   "id": "7698c07a-69dd-401a-a64c-95fdb8cece19",
   "metadata": {},
   "outputs": [],
   "source": [
    "# ---- TODO(you) ----\n",
    "# display the input and output as images"
   ]
  }
 ],
 "metadata": {
  "kernelspec": {
   "display_name": "Python 3 (ipykernel)",
   "language": "python",
   "name": "python3"
  },
  "language_info": {
   "codemirror_mode": {
    "name": "ipython",
    "version": 3
   },
   "file_extension": ".py",
   "mimetype": "text/x-python",
   "name": "python",
   "nbconvert_exporter": "python",
   "pygments_lexer": "ipython3",
   "version": "3.10.6"
  }
 },
 "nbformat": 4,
 "nbformat_minor": 5
}
